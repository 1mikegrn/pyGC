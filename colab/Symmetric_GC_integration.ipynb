{
  "nbformat": 4,
  "nbformat_minor": 0,
  "metadata": {
    "colab": {
      "name": "Symmetric GC integration.ipynb",
      "provenance": [],
      "collapsed_sections": [
        "CsU5buqoznH-"
      ]
    },
    "kernelspec": {
      "name": "python3",
      "display_name": "Python 3"
    }
  },
  "cells": [
    {
      "cell_type": "markdown",
      "metadata": {
        "id": "CsU5buqoznH-",
        "colab_type": "text"
      },
      "source": [
        "###### Michael Green, Xiaobo Chen | University of Missouri-Kansas City"
      ]
    },
    {
      "cell_type": "markdown",
      "metadata": {
        "colab_type": "text",
        "id": "fn_ziMClzjxH"
      },
      "source": [
        "\n",
        "---\n",
        "\n",
        "    This program is free software: you can redistribute it and/or modify\n",
        "    it under the terms of the GNU General Public License as published by\n",
        "    the Free Software Foundation, either version 3 of the License, or\n",
        "    (at your option) any later version.\n",
        "\n",
        "    This program is distributed in the hope that it will be useful,\n",
        "    but WITHOUT ANY WARRANTY; without even the implied warranty of\n",
        "    MERCHANTABILITY or FITNESS FOR A PARTICULAR PURPOSE.  See the\n",
        "    GNU General Public License for more details.\n",
        "\n",
        "questions regarding implementation can be directed towards magwwc@mail.umkc.edu or chenxiaobo@umkc.edu\n"
      ]
    },
    {
      "cell_type": "markdown",
      "metadata": {
        "id": "l97_MkEu_q5U",
        "colab_type": "text"
      },
      "source": [
        "\n",
        "---\n",
        "\n",
        "About this Notebook:\n",
        "---\n",
        "\n",
        "This jupyter notebook is curtailed to run within the Google colab cloud computing environment. While many of the concepts related to the Python programming language are available cross-platform, some of the functionality of this specific jupyter notebook is tethered to the google.colab module. Thus, some of the features of  this notebook (mainly, the method for importing data into the cloud) may not be available outside of the google.colab cloud computing environment.\n",
        "\n",
        "How to use:\n",
        "---\n",
        "\n",
        "This `jupyter notebook` contains little boxes called cells. Each cell contains either text (like this cell) or `code` (like the next cell). In order to use this notebook for your GC calculations, you will need to run each cell in the order which they appear*. If everything goes well, you should see a set of graphs at the end of this notebook.\n",
        "\n",
        "When using this notebook for your own work, there are two cells which will require your input. These are marked at the top with the test `# USER INPUT #` surrounded by hash marks. Be particularly sure to pay attention to those cells.\n",
        "\n",
        "To start, a bit of semantics: The `#` hash marks a comment string in Python, and text after the hash is not interpreted as code.\n",
        "\n",
        "    * There is an optional cell which can be skipped."
      ]
    },
    {
      "cell_type": "code",
      "metadata": {
        "id": "eGnomaRxm_9G",
        "colab_type": "code",
        "colab": {}
      },
      "source": [
        "### OPTIONAL CELL ###\n",
        "\n",
        "# This cell is for demo use. \n",
        "\n",
        "# Run this cell (or select 'Run all' under the 'Runtime tab above to run every \n",
        "# cell') to grab data from the internet as a demo. \n",
        "\n",
        "# When the demo is complete, under the tab 'Runtime' at the top of the screen, \n",
        "# click 'Restart Runtime', then click 'yes'. This will reset the notebook so \n",
        "# you can upload your own data.\n",
        "\n",
        "uploaded = [\n",
        "    'https://tinyurl.com/JCEpyGC1to1'\n",
        "]\n",
        "\n",
        "demo = True"
      ],
      "execution_count": 0,
      "outputs": []
    },
    {
      "cell_type": "code",
      "metadata": {
        "id": "9m-_G8HV_hQu",
        "colab_type": "code",
        "colab": {}
      },
      "source": [
        "# import the various tools that we'll use\n",
        "\n",
        "import numpy as np\n",
        "import pandas as pd\n",
        "from google.colab import files\n",
        "import matplotlib.pyplot as plt\n",
        "from scipy.optimize import leastsq\n",
        "from scipy.integrate import quad"
      ],
      "execution_count": 0,
      "outputs": []
    },
    {
      "cell_type": "code",
      "metadata": {
        "id": "mhqLJxJy__YP",
        "colab_type": "code",
        "colab": {}
      },
      "source": [
        "\n",
        "################################## USER INPUT ################################## \n",
        "\n",
        "# running this box will prompt a button which contains the label \n",
        "# 'Choose Files'. Press this button and navigate to the .csv file you wish\n",
        "# to use for calculation. Only select a single file.\n",
        "\n",
        "# this 'if' statement is just a check to see if the demo was run\n",
        "if 'demo' not in locals():\n",
        "    uploaded = files.upload()"
      ],
      "execution_count": 0,
      "outputs": []
    },
    {
      "cell_type": "code",
      "metadata": {
        "id": "p46g_CbUAYqC",
        "colab_type": "code",
        "colab": {
          "base_uri": "https://localhost:8080/",
          "height": 281
        },
        "outputId": "c13a04b2-b3da-4578-ca30-5a5801d93ac9"
      },
      "source": [
        "# uses a library called pandas (pd) to format our data into a Nx2 numpy array.\n",
        "for upload in uploaded:\n",
        "    data_set = pd.read_csv(upload).to_numpy()\n",
        "\n",
        "plt.plot(data_set[:,0], data_set[:,1])"
      ],
      "execution_count": 10,
      "outputs": [
        {
          "output_type": "execute_result",
          "data": {
            "text/plain": [
              "[<matplotlib.lines.Line2D at 0x7f3eff2b7978>]"
            ]
          },
          "metadata": {
            "tags": []
          },
          "execution_count": 10
        },
        {
          "output_type": "display_data",
          "data": {
            "image/png": "[encoded data removed]",
            "text/plain": [
              "<Figure size 432x288 with 1 Axes>"
            ]
          },
          "metadata": {
            "tags": []
          }
        }
      ]
    },
    {
      "cell_type": "code",
      "metadata": {
        "id": "RDHuiI1ECouM",
        "colab_type": "code",
        "colab": {}
      },
      "source": [
        "\n",
        "################################## USER INPUT ##################################\n",
        "\n",
        "# initial guess for gaussian distributions to optimize \n",
        "# [height, position, width]. If more than 2 distributions are required, \n",
        "# add a new set of [h,p,w] initial parameters to 'initials' for each new \n",
        "# distribution, for each file. New parameters should be of the same\n",
        "# format for consistency.\n",
        "\n",
        "#        peak1    peak2    peak3\n",
        "# i.e. [[h,p,w], [h,p,w], [h,p,w], ...] etc. \n",
        "# A 'w' guess of 1 is typically a sufficient estimation.\n",
        "\n",
        "initials = [\n",
        "    [4.5, 13, 1],\n",
        "    [2.5, 19, 1]\n",
        "]\n",
        "\n",
        "n_value = len(initials)\n"
      ],
      "execution_count": 0,
      "outputs": []
    },
    {
      "cell_type": "code",
      "metadata": {
        "id": "G0nrHw32Cy7Q",
        "colab_type": "code",
        "colab": {}
      },
      "source": [
        "# defines a typical gaussian function, of independent variable x,\n",
        "# amplitude a, position b, and width parameter c.\n",
        "def gaussian(x,a,b,c):\n",
        "    return a*np.exp((-(x-b)**2.0)/c**2.0)\n",
        "\n",
        "# defines the expected resultant as a sum of intrinsic gaussian functions\n",
        "def GaussSum(x, p, n):\n",
        "    return sum(gaussian(x, p[3*k], p[3*k+1], p[3*k+2]) for k in range(n))\n",
        "\n",
        "# defines condition of minimization, called the resudual, which is defined\n",
        "# as the difference between the data and the function.\n",
        "def residuals(p, y, x, n):\n",
        "    return y - GaussSum(x,p,n)  "
      ],
      "execution_count": 0,
      "outputs": []
    },
    {
      "cell_type": "code",
      "metadata": {
        "id": "0j4MEJ7HC4iM",
        "colab_type": "code",
        "colab": {}
      },
      "source": [
        "# using least-squares optimization, minimize the difference between the data\n",
        "# provided by experiment and the curve used to fit the function.\n",
        "\n",
        "cnsts =  leastsq(\n",
        "            residuals, \n",
        "            initials, \n",
        "            args=(\n",
        "                data_set[:,1],          # y data\n",
        "                data_set[:,0],          # x data\n",
        "                n_value                 # n value\n",
        "            )\n",
        "        )[0]\n"
      ],
      "execution_count": 0,
      "outputs": []
    },
    {
      "cell_type": "code",
      "metadata": {
        "id": "pGW3ZVuFFGjp",
        "colab_type": "code",
        "colab": {}
      },
      "source": [
        "# integrates the gaussian functions through gauss quadrature and saves the \n",
        "# results to a list, and each list is saved to its corresponding data file \n",
        "# in the empty 'area_sets' dictionary.\n",
        "\n",
        "areas = dict()\n",
        "\n",
        "for i in range(n_value):\n",
        "    areas[i] = quad(\n",
        "        gaussian,\n",
        "        data_set[0,0],      # lower integration bound\n",
        "        data_set[-1,0],     # upper integration bound\n",
        "        args=(\n",
        "            cnsts[3*i], \n",
        "            cnsts[3*i+1], \n",
        "            cnsts[3*i+2]\n",
        "        )\n",
        "    )[0]\n"
      ],
      "execution_count": 0,
      "outputs": []
    },
    {
      "cell_type": "code",
      "metadata": {
        "id": "klIv8Y5FPUiD",
        "colab_type": "code",
        "colab": {
          "base_uri": "https://localhost:8080/",
          "height": 407
        },
        "outputId": "373380e9-3efc-4fe4-d704-1ce24fefb571"
      },
      "source": [
        "# this is all just building graphs with the results.\n",
        "\n",
        "\n",
        "# defines the independent variable. \n",
        "x = np.linspace(data_set[0,0],data_set[-1,0],200)\n",
        "\n",
        "fig, ax = plt.subplots(dpi = 100)\n",
        "\n",
        "#sets the axis labels and parameters.\n",
        "ax.tick_params(direction = 'in', pad = 15)\n",
        "ax.set_xlabel('time / s', labelpad = 20, fontsize = 15)\n",
        "ax.set_ylabel('Intensity / a.u.', labelpad = 20, fontsize = 15)\n",
        "\n",
        "# plots the first two data sets: the raw data and the GaussSum.\n",
        "ax.plot(data_set[:,0], data_set[:,1], 'ko')\n",
        "ax.plot(x,GaussSum(x,cnsts, n_value))\n",
        "\n",
        "# adds a plot of each individual gaussian to the graph.\n",
        "for i in range(n_value):\n",
        "    ax.plot(\n",
        "        x, \n",
        "        gaussian(\n",
        "            x, \n",
        "            cnsts[3*i], \n",
        "            cnsts[3*i+1], \n",
        "            cnsts[3*i+2]\n",
        "        )\n",
        "    )\n",
        "\n",
        "\n",
        "# creates ledger for each graph\n",
        "ledger = ['Data', 'Resultant']\n",
        "for i in range(n_value):\n",
        "    ledger.append(\n",
        "        str(round(cnsts[3*i+1], 2)) + \n",
        "        '$e^{(x-' + str(round(cnsts[3*i], 2)) + \n",
        "        ')^2 / ' + str(round(cnsts[3*i + 2], 2)) + \n",
        "        '^2}$' + ' \\n Area = ' + str(round(areas[i], 3))\n",
        "    ) \n",
        "\n",
        "#adds the ledger to the graph.\n",
        "ax.legend(ledger)\n",
        "\n",
        "# format and show\n",
        "plt.tight_layout()\n",
        "plt.show()"
      ],
      "execution_count": 17,
      "outputs": [
        {
          "output_type": "display_data",
          "data": {
            "image/png": "[encoded data removed]",
            "text/plain": [
              "<Figure size 600x400 with 1 Axes>"
            ]
          },
          "metadata": {
            "tags": []
          }
        }
      ]
    }
  ]
}