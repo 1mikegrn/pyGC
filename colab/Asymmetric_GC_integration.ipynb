{
  "nbformat": 4,
  "nbformat_minor": 0,
  "metadata": {
    "colab": {
      "name": "Asymmetric GC integration.ipynb",
      "provenance": [],
      "collapsed_sections": [
        "CsU5buqoznH-"
      ]
    },
    "kernelspec": {
      "name": "python3",
      "display_name": "Python 3"
    }
  },
  "cells": [
    {
      "cell_type": "markdown",
      "metadata": {
        "id": "CsU5buqoznH-",
        "colab_type": "text"
      },
      "source": [
        "###### Michael Green, Xiaobo Chen | University of Missouri-Kansas City"
      ]
    },
    {
      "cell_type": "markdown",
      "metadata": {
        "colab_type": "text",
        "id": "fn_ziMClzjxH"
      },
      "source": [
        "\n",
        "---\n",
        "\n",
        "    This program is free software: you can redistribute it and/or modify\n",
        "    it under the terms of the GNU General Public License as published by\n",
        "    the Free Software Foundation, either version 3 of the License, or\n",
        "    (at your option) any later version.\n",
        "\n",
        "    This program is distributed in the hope that it will be useful,\n",
        "    but WITHOUT ANY WARRANTY; without even the implied warranty of\n",
        "    MERCHANTABILITY or FITNESS FOR A PARTICULAR PURPOSE.  See the\n",
        "    GNU General Public License for more details.\n",
        "\n",
        "questions regarding implementation can be directed towards magwwc@mail.umkc.edu or chenxiaobo@umkc.edu\n"
      ]
    },
    {
      "cell_type": "markdown",
      "metadata": {
        "id": "-qm789lbFtJi",
        "colab_type": "text"
      },
      "source": [
        "\n",
        "---\n",
        "\n",
        "About this Notebook:\n",
        "---\n",
        "\n",
        "This jupyter notebook is curtailed to run within the Google colab cloud computing environment. While many of the concepts related to the Python programming language are available cross-platform, some of the functionality of this specific jupyter notebook is tethered to the google.colab module. Thus, some of the features of  this notebook (mainly, the method for importing data into the cloud) may not be available outside of the google.colab cloud computing environment.\n",
        "\n",
        "How to use:\n",
        "---\n",
        "\n",
        "This `jupyter notebook` contains little boxes called cells. Each cell contains either text (like this cell) or `code` (like the next cell). In order to use this notebook for your GC calculations, you will need to run each cell in the order which they appear*. If everything goes well, you should see a set of graphs at the end of this notebook.\n",
        "\n",
        "When using this notebook for your own work, there are two cells which will require your input. These are marked at the top with the test `# USER INPUT #` surrounded by hash marks. Be particularly sure to pay attention to those cells.\n",
        "\n",
        "To start, a bit of semantics: The `#` hash marks a comment string in Python, and text after the hash is not interpreted as code.\n",
        "\n",
        "    * There is an optional cell which can be skipped."
      ]
    },
    {
      "cell_type": "code",
      "metadata": {
        "id": "VLNk4e7dBkvw",
        "colab_type": "code",
        "colab": {}
      },
      "source": [
        "### OPTIONAL CELL ###\n",
        "\n",
        "# This cell is for demo use. \n",
        "\n",
        "# Run this cell (or select 'Run all' under the 'Runtime tab above to run every \n",
        "# cell') to grab data from the internet as a demo. \n",
        "\n",
        "# When the demo is complete, under the tab 'Runtime' at the top of the screen, \n",
        "# click 'Restart Runtime', then click 'yes'. This will reset the notebook so \n",
        "# you can upload your own data.\n",
        "\n",
        "uploaded = [\n",
        "    'https://tinyurl.com/JCEpyGC1to1'\n",
        "]\n",
        "\n",
        "demo = True"
      ],
      "execution_count": 0,
      "outputs": []
    },
    {
      "cell_type": "code",
      "metadata": {
        "id": "2Pf6mgKsF6iq",
        "colab_type": "code",
        "colab": {}
      },
      "source": [
        "# import the various tools that we'll use\n",
        "\n",
        "import numpy as np\n",
        "import pandas as pd\n",
        "from google.colab import files\n",
        "import matplotlib.pyplot as plt\n",
        "from scipy.optimize import leastsq\n",
        "from scipy.integrate import quad\n",
        "from scipy.special import erf"
      ],
      "execution_count": 0,
      "outputs": []
    },
    {
      "cell_type": "code",
      "metadata": {
        "id": "X-rE5AS5F80T",
        "colab_type": "code",
        "colab": {}
      },
      "source": [
        "\n",
        "################################## USER INPUT ################################## \n",
        "\n",
        "# running this box will prompt a button which contains the label \n",
        "# 'Choose Files'. Press this button and navigate to the .csv file you wish\n",
        "# to use for calculation. Only select a single file.\n",
        "\n",
        "# this 'if' statement is just a check to see if the demo was run\n",
        "if 'demo' not in locals():\n",
        "    uploaded = files.upload()"
      ],
      "execution_count": 0,
      "outputs": []
    },
    {
      "cell_type": "code",
      "metadata": {
        "id": "60Ln-yasGCA_",
        "colab_type": "code",
        "colab": {
          "base_uri": "https://localhost:8080/",
          "height": 281
        },
        "outputId": "02f0a172-ab98-425a-dd99-d71e7e7193c6"
      },
      "source": [
        "# uses a library called pandas (pd) to format our data into a Nx2 numpy array.\n",
        "for upload in uploaded:\n",
        "    data_set = pd.read_csv(upload).to_numpy()\n",
        "\n",
        "plt.plot(data_set[:,0], data_set[:,1])"
      ],
      "execution_count": 4,
      "outputs": [
        {
          "output_type": "execute_result",
          "data": {
            "text/plain": [
              "[<matplotlib.lines.Line2D at 0x7fdb44aaf7f0>]"
            ]
          },
          "metadata": {
            "tags": []
          },
          "execution_count": 4
        },
        {
          "output_type": "display_data",
          "data": {
            "image/png": "[encoded data removed]",
            "text/plain": [
              "<Figure size 432x288 with 1 Axes>"
            ]
          },
          "metadata": {
            "tags": []
          }
        }
      ]
    },
    {
      "cell_type": "code",
      "metadata": {
        "id": "upaYKFdBGEAo",
        "colab_type": "code",
        "colab": {}
      },
      "source": [
        "\n",
        "################################## USER INPUT ##################################\n",
        "\n",
        "# initial guess for gaussian distributions to optimize \n",
        "# [height, position, width, skew]. if more than 2 distributions required, add a \n",
        "# new set of [h,p,w,s] initial parameters for each new distribution. New \n",
        "# parameters should be of the same format for consistency; i.e. [h,p,w,s],\n",
        "# [h,p,w,s],[h,p,w,s],... etc. A 'w' guess of 1 and an 's' guess of 0 are \n",
        "# typically a sufficient estimations.\n",
        "\n",
        "# It sould be noted that the parameters don't fit the strict definitions as \n",
        "# defined with a symmetric gaussian because the error function requires a \n",
        "# certain level of interplay with the standard distribution which is a function \n",
        "# of the 'c' parameter. you can discover the relationships yourself by comparing \n",
        "# the symmetric gaussian to the asymmetric; for example, the amplitude of the \n",
        "# exponential in a symmetric gaussian is defined strictly as a function of the \n",
        "# constant 'a'. What takes the place of the constant 'a' here in the asymmetric \n",
        "# function? \n",
        "\n",
        "# Answer: (the parameter (a / (c * np.sqrt(2 * np.pi))))\n",
        "\n",
        "#         peak1      peak2      peak3\n",
        "# i.e. [[h,p,w,s], [h,p,w,s], [h,p,w,s], ...] etc. \n",
        "# A 'w' guess of 1 is typically a sufficient estimation.\n",
        "\n",
        "initials = [\n",
        "    [6.5, 13, 1, 0], \n",
        "    [4.5, 19, 1, 0]\n",
        "]\n",
        "\n",
        "n_value = len(initials)\n"
      ],
      "execution_count": 0,
      "outputs": []
    },
    {
      "cell_type": "code",
      "metadata": {
        "id": "EfSGhLTyGyOu",
        "colab_type": "code",
        "colab": {}
      },
      "source": [
        "# defines a typical gaussian function, of independent variable x,\n",
        "# amplitude a, position b, width parameter c, and erf parameter d.\n",
        "def gaussian(x,a,b,c,d):\n",
        "    amp = (a / (c * np.sqrt(2 * np.pi)))\n",
        "    spread = np.exp((-(x - b) ** 2.0) / 2 * c ** 2.0)\n",
        "    skew = (1 + erf((d * (x - b)) / (c * np.sqrt(2))))\n",
        "    return amp * spread * skew\n",
        "\n",
        "# defines the expected resultant as a sum of intrinsic gaussian functions\n",
        "def GaussSum(x, p, n):\n",
        "    gs = sum(\n",
        "        gaussian(x, p[4*k], p[4*k+1], p[4*k+2], p[4*k+3]) \n",
        "        for k in range(n)\n",
        "    )\n",
        "    return gs\n",
        "\n",
        "# defines a residual, which is the  reducing the square of the difference \n",
        "# between the data and the function\n",
        "def residuals(p, y, x, n):\n",
        "    return y - GaussSum(x,p,n)"
      ],
      "execution_count": 0,
      "outputs": []
    },
    {
      "cell_type": "code",
      "metadata": {
        "id": "bKDi6kk6G2T4",
        "colab_type": "code",
        "colab": {}
      },
      "source": [
        "\n",
        "# executes least-squares regression analysis to optimize initial parameters\n",
        "cnst = leastsq(\n",
        "    residuals, \n",
        "    initials, \n",
        "    args=(\n",
        "        data_set[:,1],\n",
        "        data_set[:,0], \n",
        "        n_value\n",
        "        )\n",
        ")[0]\n",
        "\n",
        "# integrates the gaussian functions through gauss quadrature and saves the \n",
        "# results to a dictionary.\n",
        "\n",
        "areas = dict()\n",
        "\n",
        "for i in range(n_value):\n",
        "    areas[i] = quad(\n",
        "            gaussian,\n",
        "            data_set[0,0],      # lower integration bound\n",
        "            data_set[-1,0],     # upper integration bound\n",
        "            args=(\n",
        "                cnst[4*i],\n",
        "                cnst[4*i+1],\n",
        "                cnst[4*i+2], \n",
        "                cnst[4*i+3]\n",
        "            )\n",
        ")[0]"
      ],
      "execution_count": 0,
      "outputs": []
    },
    {
      "cell_type": "code",
      "metadata": {
        "id": "3xc04jCWHctG",
        "colab_type": "code",
        "colab": {}
      },
      "source": [
        "# defines the independent variable. \n",
        "x = np.linspace(0,40,200)\n",
        "\n",
        "# visualization block; creates and formats a figure variable to place the data \n",
        "# in.\n",
        "fig, ax = plt.subplots()\n",
        "\n",
        "#sets the axis labels and parameters.\n",
        "ax.tick_params(direction = 'in', pad = 15)\n",
        "ax.set_xlabel('time / s', labelpad = 20, fontsize = 15)\n",
        "ax.set_ylabel('Intensity / a.u.', labelpad = 20, fontsize = 15)\n",
        "\n",
        "#plots the first two data sets: the raw data and the GaussSum.\n",
        "ax.plot(data_set[:,0],data_set[:,1], 'ko')\n",
        "ax.plot(x,GaussSum(x,cnst, n_value))\n",
        "\n",
        "# adds a plot of each individual gaussian to the graph.\n",
        "for i in range(n_value):\n",
        "    ax.plot(x, gaussian(x, cnst[4*i], cnst[4*i+1], cnst[4*i+2], cnst[4*i+3]))\n",
        "\n",
        "# creates a list of titles for each data set.\n",
        "ledger = ['Data', 'Resultant']\n",
        "for i in range(n_value):\n",
        "    ledger.append('Area = ' + str(round(areas[i], 3))) \n",
        "\n",
        "#adds the ledger to the graph.\n",
        "ax.legend(ledger)\n",
        "\n",
        "# final formatting of graph, and show the picture.\n",
        "plt.tight_layout()\n",
        "plt.show()"
      ],
      "execution_count": 0,
      "outputs": []
    }
  ]
}